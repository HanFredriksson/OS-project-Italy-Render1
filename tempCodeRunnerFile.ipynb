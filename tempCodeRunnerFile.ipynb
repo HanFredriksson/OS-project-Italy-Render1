top_countries_gold = os_data[os_data['Medal'] == 'Gold']['NOC'].value_counts()
top_countries_silver = os_data[os_data['Medal'] == 'Silver']['NOC'].value_counts()
top_countries_bronze = os_data[os_data['Medal'] == 'Bronze']['NOC'].value_counts()

print(f"Top 3 countries in Gold medal: {top_countries_gold.head(3)}")
print(f"Top 3 countries in Silver medal: {top_countries_silver.head(3)}")
print(f"Top 3 countries in Bronze medal: {top_countries_bronze.head(3)}")