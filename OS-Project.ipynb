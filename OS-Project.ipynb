{
 "cells": [
  {
   "cell_type": "code",
   "execution_count": 3,
   "metadata": {},
   "outputs": [],
   "source": [
    "import pandas as pd\n",
    "from pathlib import Path  \n",
    "\n",
    "\n",
    "os_data = pd.read_csv(\"../Projekt-OS/Data/athlete_events.csv\")\n",
    "\n",
    "\n",
    "sweden_os_data = os_data[os_data[\"NOC\"] == \"SWE\"]\n",
    "\n",
    "sweden_os_data\n",
    "\n",
    "  \n",
    "\n",
    "filepath = Path(\"../Projekt-OS/Data/Sweden-OS-data.csv\")  \n",
    "\n",
    "filepath.parent.mkdir(parents=True, exist_ok=True)  \n",
    "\n",
    "sweden_os_data.to_csv(filepath)  "
   ]
  },
  {
   "cell_type": "code",
   "execution_count": null,
   "metadata": {},
   "outputs": [
    {
     "data": {
      "text/plain": [
       "230"
      ]
     },
     "execution_count": 8,
     "metadata": {},
     "output_type": "execute_result"
    }
   ],
   "source": [
    "\n",
    "noc_list = []\n",
    "\n",
    "for noc in os_data[\"NOC\"]:\n",
    "    if noc not in noc_list:\n",
    "        noc_list.append(noc)\n",
    "\n",
    "len(noc_list)"
   ]
  }
 ],
 "metadata": {
  "kernelspec": {
   "display_name": ".venv",
   "language": "python",
   "name": "python3"
  },
  "language_info": {
   "codemirror_mode": {
    "name": "ipython",
    "version": 3
   },
   "file_extension": ".py",
   "mimetype": "text/x-python",
   "name": "python",
   "nbconvert_exporter": "python",
   "pygments_lexer": "ipython3",
   "version": "3.12.5"
  }
 },
 "nbformat": 4,
 "nbformat_minor": 2
}
