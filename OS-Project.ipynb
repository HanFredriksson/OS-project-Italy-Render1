{
 "cells": [
  {
   "cell_type": "code",
   "execution_count": null,
   "metadata": {},
   "outputs": [],
   "source": [
    "import pandas as pd\n",
    "from pathlib import Path  \n",
    "\n",
    "\n",
    "os_data = pd.read_csv(\"../Data/athlete_events.csv\")\n",
    "\n",
    "\n",
    "sweden_os_data = os_data[os_data[\"NOC\"] == \"SWE\"]\n",
    "\n",
    "sweden_os_data\n",
    "\n",
    "  \n",
    "\n",
    "# filepath = Path(/subfolder/out.csv')  \n",
    "\n",
    "# filepath.parent.mkdir(parents=True, exist_ok=True)  \n",
    "\n",
    "# df.to_csv(filepath)  "
   ]
  }
 ],
 "metadata": {
  "kernelspec": {
   "display_name": "Python 3",
   "language": "python",
   "name": "python3"
  },
  "language_info": {
   "name": "python",
   "version": "3.12.5"
  }
 },
 "nbformat": 4,
 "nbformat_minor": 2
}
